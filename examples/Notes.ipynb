{
 "cells": [
  {
   "cell_type": "markdown",
   "metadata": {},
   "source": [
    "# Final Project Proposal"
   ]
  },
  {
   "cell_type": "markdown",
   "metadata": {},
   "source": [
    "Kenneth E. Bellock\n",
    " \n",
    "AS.430.618.81.SP19 Advanced Python Scripting for GIS\n",
    "\n",
    "Johns Hopkins University,\n",
    "Krieger School of Arts and Sciences,\n",
    "3400 N. Charles Street,\n",
    "Baltimore, MD 21218\n",
    "\n",
    "April 18, 2019"
   ]
  },
  {
   "cell_type": "markdown",
   "metadata": {},
   "source": [
    "<!---\n",
    "\n",
    "## Objective\n",
    "The project proposal builds on the project idea but provides a lot more detail. Specifically, this project proposal includes:\n",
    "\n",
    "1. The title of your proposed tool.\n",
    "\n",
    "2. Specific functionality of the tool from a user's perspective - what are the inputs and what are the outputs? Also, discuss why this is important or useful.\n",
    "\n",
    "3. A detailed description of how the tool works - what is the actual workflow accomplished to go from the inputs to the outputs? Also, discuss why this cannot be accomplished using existing tools.\n",
    "\n",
    "4. A brief description of sample data. You will need some sample data to develop/test your code and demonstrate that the tool works.\n",
    "\n",
    "5. An initial outline of your major coding challenges. Try to break down the workflow into various logical components and discuss each component. No actual code is required, but some rough pseudo-code is helpful here. This will assist in identifying which modules/functions you are going to need.\n",
    "\n",
    "When writing your project proposal, keep the following expectations for your final project in mind:\n",
    "\n",
    "scripts can utilize ArcPy, or open source libraries or a combination\n",
    "scripts are developed for distributing/sharing with others, so there should be very limited to no hard-coding of values\n",
    "when relying mostly on ArcPy, a finished script tool interface is expected - when relying exclusively on open source libraries no interface is required, but the scripts should be user-friendly (e.g. starting off the script with user-defined variables, then no more hard-coding in the rest of the script\n",
    "you can use a single script or multiple scripts, your choice\n",
    "documentation needs to be provided to users to assist with running the tool\n",
    "\n",
    "-->"
   ]
  },
  {
   "cell_type": "markdown",
   "metadata": {},
   "source": [
    "## Title\n",
    "Alpha Shape Toolbox\n",
    "\n",
    "## Abstract\n",
    "Creating alpha shapes around sets of points usually requires a visually interactive step where the alpha parameter for a concave hull is determined by iterating over or bisecting values to approach a best fit to data being studied.  This capability is useful in several application areas.  In defense contracting, this might be useful in the analysis of coverage areas of asset positioning in mission planning.  It might also be useful in nature studies to determine home ranges or migration patterns from captured telemetry. The alpha shape toolbox will provide workflows to shorten the development loop on this manual process by providing a user interface with an embedded map visualization and user inputs to specify an input feature class, an alpha parameter, and an output feature class field.  As the user modifies the alpha parameter, the resulting alpha shape will be displayed in the map visualization.  Once the ideal alpha shape is determined, the user will be able to save the result to an output feature class.  A console application will also be provided to generate alpha shapes from the command line, and a python API will be provided to aid in the scripted generation of alpha shapes.  In addition to the utility of being able to quicly iterate on alpha parameters to genearte concave hulls, the framework of this toolset will provide a template for generating GIS toolsets accessible from python, the console, or graphical user interfaces without the licensing restrictions of proprietary toolsets and without having a python installation for the console and user interface.\n",
    "\n",
    "https://en.wikipedia.org/wiki/Alpha_shape\n",
    "\n",
    "*Note: If time does not permit the completion of a user interface, it will be de-scoped at the Progress Report.  The alpha shape api utilized within Jupyter Notebook will then be substituted to tighten the developent loop on alpha parameter selection.*\n",
    "\n",
    "## Use Cases (Specific Functionality of the Tool from a Users Perspective)\n",
    "\n",
    "The following use cases describe the from a users perspective the pre-conditions, flow, and post conditions of the desired tool capabilities supporting the overall workflow shown in the block diagram below.\n",
    "\n",
    "![](media/flow1.png)\n",
    "\n",
    "### Generate a Visualization in Jupyter Notebook\n",
    "\n",
    "#### Pre-Condition\n",
    "Given the alpha shape python api and a Jupyter Notebook interface.\n",
    "\n",
    "#### Flow\n",
    "1. When a user calls the api function `alpha_shape` with a list of points and an alpha parameter.\n",
    "2. And when the user converts the resulting shape to a `GeoSeries` object.\n",
    "\n",
    "#### Post-Condition\n",
    "Then the user will be able to visualize the resulting alpha shape within the Jupyter Notebook.\n",
    "\n",
    "### Write Result to ESRI Shapefile\n",
    "\n",
    "#### Pre-Condition\n",
    "Given the alpha shape command line tool and an input shapefile.\n",
    "\n",
    "#### Flow\n",
    "1. When the user calls the alpha shape command line tool with the input shapefile, an alpha parameter, and an output shapefile path.\n",
    "\n",
    "#### Post-Condition\n",
    "Then an output shapefile will be generated at the specified path with a geometry containing the alpha shape.\n",
    "\n",
    "### Automate Alpha Parameter Optimization\n",
    "\n",
    "#### Pre-Condition\n",
    "Given the alpha shape api, and an input shapefile.\n",
    "\n",
    "#### Flow\n",
    "1. When a user calls the api function `find_alpha` with the input shapefile as an argument.\n",
    "\n",
    "#### Post-Condition\n",
    "Then the user will be returned either an alpha parameter that best fits the input data in one polygon, or the value of `None` if an optimized solution cannot be found.\n",
    "\n",
    "### Visualize Alpha Parameter Modifications (Optional)\n",
    "\n",
    "#### Pre-Condition\n",
    "Given the alpha shape visualization tool, and an input shapefile.\n",
    "\n",
    "#### Flow\n",
    "1. When a user opens the alpha shape visualization tool.\n",
    "2. And when a user selects an input shapefile.\n",
    "3. And when a user selects an alpha value.\n",
    "\n",
    "#### Post-Condition\n",
    "Then the resulting alpha shape will be displayed in the map visualization within the tool.\n",
    "\n",
    "## Design (Detailed Description)\n",
    "### Alpha Shape Algorithm\n",
    "The alpha shape algorithm will take a set of points supplied by the user, and convert it to a shapely `MultiPoint` object for processing. If the supplied list of points contains three or less points, a convex hull surrounding these points will be returned to the user.  Otherwise, it will use SciPy's `scipy.spatial.Delaunay()`, (https://docs.scipy.org/doc/scipy-0.14.0/reference/generated/scipy.spatial.Delaunay.html) to create a list of triangles from the given points.  It will then loop over the triangles filtering out edges that do not meet the alpha parameter characteristics computed through evaluation of the lengths of the triangle edges flowing into the calculation for the area of the triangle then flowing into the radius filter.  The prototype code for this algorithm can be found in the Proof of Concept section below.\n",
    "\n",
    "A python api will be created as a package that with calls to generate alpha shapes and to iterate on ideal alpha parameters for single polygon encapsulation of input data.\n",
    "\n",
    "A command line interface will be generated utilizing the `argparse` toolbox that will include options for tool version number, help, logging verbosity, input shapefile specification, output shapefile specification, and alpha parameter specification.\n",
    "\n",
    "If time permits, a graphical user interface will be created to aid in alpha parameter selection.  This will utilize WxPython, the matplotlib WxAgg backend, and cartopy for the map visualization pane.\n",
    "\n",
    "\n",
    "## Prior Art\n",
    "The following blog entry contains relevant python code for determining alpha shapes, but it contains divide by zero errors as well as a few other deficiencies.  The information in this blog post still served as a foundation to the idea for this project.\n",
    "\n",
    "http://blog.thehumangeo.com/2014/05/12/drawing-boundaries-in-python/\n",
    "\n",
    "No other existing toolbox could be found utilizing the `pip search` command for alpha shape toolboxes, and no other toolboxes for python could be found to support the use cases documented in this proposal.\n",
    "\n",
    "## Core Capabilities Covered\n",
    "* Argument Parsing\n",
    "* API Documentation\n",
    "* Docstrings\n",
    "* Unit Testing\n",
    "* Freezing Python Console Applications\n",
    "* Embedding GIS in User Interfaces\n",
    "* Calculating alpha shape geometries\n",
    "* Loading ESRI Shapefiles\n",
    "* Writing ESRI Shapefiles\n",
    "* Freezing Python Graphical Applications (Optional)\n",
    "\n",
    "## Libraries Used\n",
    "* GeoPandas\n",
    "* fiona\n",
    "* wxPython\n",
    "* scipy\n",
    "* sphinx\n",
    "* shapely\n",
    "* cartopy\n",
    "\n",
    "## Deliverables\n",
    "* Python API\n",
    "* Console Application\n",
    "* Documentation\n",
    "* Graphical User Interface (Optional)"
   ]
  },
  {
   "cell_type": "markdown",
   "metadata": {},
   "source": [
    "## Sample Data\n",
    "\n",
    "Sample data will be drawn from the Lesson 7 `airports.shp` feature class.  This is a data set of airports in the state of alaska and is ideal for studying how a set of real data points can be fit with an alpha shape.\n",
    "\n",
    "The following code and plot visualizes the data in this input feature class."
   ]
  },
  {
   "cell_type": "code",
   "execution_count": 5,
   "metadata": {},
   "outputs": [
    {
     "data": {
      "text/plain": [
       "<matplotlib.axes._subplots.AxesSubplot at 0x7fb7adb040f0>"
      ]
     },
     "execution_count": 5,
     "metadata": {},
     "output_type": "execute_result"
    },
    {
     "data": {
      "image/png": "[encoded data removed]",
      "text/plain": [
       "<Figure size 432x288 with 1 Axes>"
      ]
     },
     "metadata": {},
     "output_type": "display_data"
    }
   ],
   "source": [
    "%matplotlib inline\n",
    "import os\n",
    "import geopandas\n",
    "SCRIPT_PATH = os.getcwd()\n",
    "data = os.path.join(SCRIPT_PATH, 'airports.shp')\n",
    "gdf = geopandas.read_file(data)\n",
    "gdf.plot()"
   ]
  },
  {
   "cell_type": "code",
   "execution_count": 6,
   "metadata": {},
   "outputs": [
    {
     "data": {
      "text/plain": [
       "{'init': 'epsg:4269'}"
      ]
     },
     "execution_count": 6,
     "metadata": {},
     "output_type": "execute_result"
    }
   ],
   "source": [
    "gdf.crs"
   ]
  },
  {
   "cell_type": "code",
   "execution_count": 7,
   "metadata": {},
   "outputs": [
    {
     "data": {
      "text/plain": [
       "<matplotlib.axes._subplots.AxesSubplot at 0x7fb7adb20c88>"
      ]
     },
     "execution_count": 7,
     "metadata": {},
     "output_type": "execute_result"
    },
    {
     "data": {
      "image/png": "[encoded data removed]",
      "text/plain": [
       "<Figure size 432x288 with 1 Axes>"
      ]
     },
     "metadata": {},
     "output_type": "display_data"
    }
   ],
   "source": [
    "%matplotlib inline\n",
    "import os\n",
    "import geopandas\n",
    "data = '/nfs/home/bellockk/Downloads/Public_Airports_March2018.shp'\n",
    "gdf = geopandas.read_file(data)\n",
    "gdf.plot()"
   ]
  },
  {
   "cell_type": "code",
   "execution_count": 8,
   "metadata": {},
   "outputs": [
    {
     "data": {
      "text/plain": [
       "{'init': 'epsg:3338'}"
      ]
     },
     "execution_count": 8,
     "metadata": {},
     "output_type": "execute_result"
    }
   ],
   "source": [
    "gdf.crs"
   ]
  },
  {
   "cell_type": "code",
   "execution_count": 43,
   "metadata": {},
   "outputs": [
    {
     "name": "stdout",
     "output_type": "stream",
     "text": [
      "POLYGON ((-6438674.031567217 10835090.05265739, -6548529.507904032 10908448.07145896, -6565018.734085675 10990014.69510036, -6490727.220787664 11135564.68781042, -6421271.966211027 11202234.47251259, -6258931.017288597 11441732.6282568, -6238738.572385293 11526146.27642774, -6216861.625704523 11708880.7645461, -6272920.184475828 12041041.37414304, -6536849.573542912 12285096.25688372, -6539882.73941991 12286308.64952378, -6603336.388347096 12336361.5514626, -6637499.558141938 12392365.79653259, -6764342.745286693 12709100.67931456, -6829774.105567669 12797009.40791823, -6852004.392278408 12912274.89002726, -6880520.183352967 12988395.84385819, -6953218.07530398 13136747.76825139, -6977389.57445226 13200988.95549032, -7119311.271372903 13737847.44127489, -7135293.743643003 13910810.68498834, -6615417.512528065 13422663.64817197, -5946918.081445905 13459338.83474334, -5773793.294007522 13287436.00631616, -5551249.144254518 13157283.08084568, -5440308.590277952 12952727.91126007, -5365870.310262433 12795984.04606815, -5308596.710290948 12631370.50934229, -5368932.364875631 12326670.12948846, -5353952.419185379 12194757.89531722, -5318571.816569027 11941857.33763035, -5752521.468730504 11721504.61372032, -5816474.025672357 11706055.04728286, -6178931.921001046 11264176.03085706, -6279429.171653562 11179240.43968732, -6438674.031567217 10835090.05265739))\n"
     ]
    },
    {
     "data": {
      "image/png": "[encoded data removed]",
      "text/plain": [
       "<Figure size 432x288 with 1 Axes>"
      ]
     },
     "metadata": {
      "needs_background": "light"
     },
     "output_type": "display_data"
    }
   ],
   "source": [
    "%matplotlib inline\n",
    "import os\n",
    "import matplotlib.pyplot as plt\n",
    "import cartopy.crs as ccrs\n",
    "from cartopy.io.shapereader import Reader\n",
    "from cartopy.feature import ShapelyFeature\n",
    "import geopandas\n",
    "\n",
    "SCRIPT_PATH = os.getcwd()\n",
    "fname = os.path.join(SCRIPT_PATH, 'Public_Airports_March2018.shp')\n",
    "gdf = geopandas.read_file(fname)\n",
    "\n",
    "alpha = get_alpha(gdf.to_crs(ccrs.AlbersEqualArea().proj4_init)['geometry'], 0.000002)\n",
    "alpha_gdf = geopandas.GeoDataFrame(geopandas.GeoSeries(alpha)).rename(columns={0:'geometry'}).set_geometry('geometry')\n",
    "alpha_gdf.crs = ccrs.AlbersEqualArea().proj4_init\n",
    "print(alpha)\n",
    "\n",
    "# ax = plt.axes(projection=ccrs.Robinson())\n",
    "ax = plt.axes(projection=ccrs.PlateCarree())\n",
    "# ax = plt.axes(projection=ccrs.AlbersEqualArea())\n",
    "gdf_proj = gdf.to_crs(ccrs.Robinson().proj4_init)\n",
    "ax.scatter([p.x for p in gdf_proj['geometry']],\n",
    "           [p.y for p in gdf_proj['geometry']],\n",
    "           transform=ccrs.Robinson())\n",
    "ax.add_geometries(alpha_gdf['geometry'], crs=ccrs.AlbersEqualArea())\n",
    "# ax.add_geometries(gdf.to_crs(ccrs.Robinson().proj4_init)['geometry'],\n",
    "#                   crs=ccrs.Robinson())\n",
    "\n",
    "plt.show()"
   ]
  },
  {
   "cell_type": "code",
   "execution_count": 12,
   "metadata": {},
   "outputs": [
    {
     "data": {
      "image/png": "[encoded data removed]",
      "text/plain": [
       "<Figure size 432x288 with 1 Axes>"
      ]
     },
     "metadata": {
      "needs_background": "light"
     },
     "output_type": "display_data"
    }
   ],
   "source": [
    "%matplotlib inline\n",
    "import os\n",
    "import matplotlib.pyplot as plt\n",
    "import cartopy.crs as ccrs\n",
    "from cartopy.io.shapereader import Reader\n",
    "from cartopy.feature import ShapelyFeature\n",
    "import geopandas\n",
    "\n",
    "SCRIPT_PATH = os.getcwd()\n",
    "fname = os.path.join(SCRIPT_PATH, 'Public_Airports_March2018.shp')\n",
    "gdf = geopandas.read_file(fname)\n",
    "gdf_proj = gdf.to_crs(ccrs.Robinson().proj4_init)\n",
    "\n",
    "ax = plt.axes(projection=ccrs.Robinson())\n",
    "ax.scatter([p.x for p in gdf_proj['geometry']],\n",
    "           [p.y for p in gdf_proj['geometry']],\n",
    "           transform=ccrs.Robinson())\n",
    "# ax.add_geometries(gdf.to_crs(ccrs.Robinson().proj4_init)['geometry'],\n",
    "#                   crs=ccrs.Robinson())\n",
    "\n",
    "plt.show()"
   ]
  },
  {
   "cell_type": "code",
   "execution_count": 14,
   "metadata": {},
   "outputs": [
    {
     "data": {
      "image/png": "[encoded data removed]",
      "text/plain": [
       "<Figure size 432x288 with 1 Axes>"
      ]
     },
     "metadata": {
      "needs_background": "light"
     },
     "output_type": "display_data"
    }
   ],
   "source": [
    "ax = plt.axes(projection=ccrs.AlbersEqualArea())\n",
    "ax.scatter([p.x for p in gdf_proj['geometry']],\n",
    "           [p.y for p in gdf_proj['geometry']],\n",
    "           transform=ccrs.Robinson())\n",
    "plt.show()"
   ]
  },
  {
   "cell_type": "markdown",
   "metadata": {},
   "source": [
    "![](media/input.png)"
   ]
  },
  {
   "cell_type": "markdown",
   "metadata": {},
   "source": [
    "## Proof of Concept"
   ]
  },
  {
   "cell_type": "code",
   "execution_count": 1,
   "metadata": {},
   "outputs": [],
   "source": [
    "import itertools\n",
    "import math\n",
    "from shapely.ops import cascaded_union, polygonize\n",
    "from shapely.geometry import MultiPoint, MultiLineString\n",
    "from scipy.spatial import Delaunay\n",
    "import numpy as np\n",
    "\n",
    "def get_alpha(points, alpha):\n",
    "    \"\"\"\n",
    "    Compute the alpha shape (concave hull) of a set\n",
    "    of points.\n",
    "\n",
    "    @param points: Iterable container of points.\n",
    "\n",
    "    @param alpha: alpha value to influence the\n",
    "        gooeyness of the border. Smaller numbers\n",
    "        don't fall inward as much as larger numbers.\n",
    "        Too large, and you lose everything.\n",
    "\n",
    "    Args:\n",
    "\n",
    "        `points` (``list``): an iterable container of points\n",
    "\n",
    "        `alpha` (``float``): alpha value\n",
    "\n",
    "    Returns:\n",
    "\n",
    "        ``Polygon``: the polygon of the concave hull\n",
    "    \"\"\"\n",
    "    points = MultiPoint(list(points))\n",
    "\n",
    "    # If given a triangle for input, or an alpha value of zero or less,\n",
    "    # return the convex hull.\n",
    "    if len(points) < 4 or alpha <= 0:\n",
    "        return points.convex_hull\n",
    "\n",
    "    coords = np.array([point.coords[0] for point in points])\n",
    "    tri = Delaunay(coords)\n",
    "    edges = set()\n",
    "    edge_points = []\n",
    "\n",
    "    # Loop over triangles\n",
    "    for ia, ib, ic in tri.vertices:\n",
    "        pa = coords[ia]\n",
    "        pb = coords[ib]\n",
    "        pc = coords[ic]\n",
    "\n",
    "        # Lengths of sides of triangle\n",
    "        a = math.sqrt((pa[0] - pb[0])**2 + (pa[1] - pb[1])**2)\n",
    "        b = math.sqrt((pb[0] - pc[0])**2 + (pb[1] - pc[1])**2)\n",
    "        c = math.sqrt((pc[0] - pa[0])**2 + (pc[1] - pa[1])**2)\n",
    "\n",
    "        # Semiperimeter of triangle\n",
    "        s = (a + b + c) * 0.5\n",
    "\n",
    "        # Area of triangle by Heron's formula\n",
    "        area = math.sqrt(s * (s - a) * (s - b) * (s - c))\n",
    "\n",
    "        # Radius Filter\n",
    "        if area > 0 and a * b * c / (4.0 * area) < 1.0 / alpha:\n",
    "            for i, j in itertools.combinations([ia, ib, ic], r=2):\n",
    "                if (i, j) not in edges and (j, i) not in edges:\n",
    "                    edges.add((i, j))\n",
    "                    edge_points.append(coords[[i, j]])\n",
    "\n",
    "    m = MultiLineString(edge_points)\n",
    "    triangles = list(polygonize(m))\n",
    "    return cascaded_union(triangles)"
   ]
  },
  {
   "cell_type": "markdown",
   "metadata": {},
   "source": [
    "### Function used to demonstrate different alpha values"
   ]
  },
  {
   "cell_type": "code",
   "execution_count": 6,
   "metadata": {},
   "outputs": [],
   "source": [
    "def test_alpha(alpha):\n",
    "    alpha = get_alpha(gdf.geometry, alpha)\n",
    "    agdf = geopandas.GeoDataFrame(geopandas.GeoSeries(alpha))\n",
    "    agdf = agdf.rename(columns={0:'geometry'}).set_geometry('geometry')\n",
    "    agdf.plot()"
   ]
  },
  {
   "cell_type": "markdown",
   "metadata": {},
   "source": [
    "### Alpha = 0 (Convex Hull)"
   ]
  },
  {
   "cell_type": "code",
   "execution_count": 7,
   "metadata": {},
   "outputs": [
    {
     "data": {
      "image/png": "[encoded data removed]",
      "text/plain": [
       "<Figure size 432x288 with 1 Axes>"
      ]
     },
     "metadata": {},
     "output_type": "display_data"
    }
   ],
   "source": [
    "test_alpha(0)"
   ]
  },
  {
   "cell_type": "markdown",
   "metadata": {},
   "source": [
    "![](media/alpha0.png)"
   ]
  },
  {
   "cell_type": "markdown",
   "metadata": {},
   "source": [
    "### Alpha = .1"
   ]
  },
  {
   "cell_type": "code",
   "execution_count": 8,
   "metadata": {},
   "outputs": [
    {
     "data": {
      "image/png": "[encoded data removed]",
      "text/plain": [
       "<Figure size 432x288 with 1 Axes>"
      ]
     },
     "metadata": {},
     "output_type": "display_data"
    }
   ],
   "source": [
    "test_alpha(.1)"
   ]
  },
  {
   "cell_type": "markdown",
   "metadata": {},
   "source": [
    "![](media/alpha1.png)"
   ]
  },
  {
   "cell_type": "markdown",
   "metadata": {},
   "source": [
    "### Alpha = .2"
   ]
  },
  {
   "cell_type": "code",
   "execution_count": 9,
   "metadata": {},
   "outputs": [
    {
     "data": {
      "image/png": "[encoded data removed]",
      "text/plain": [
       "<Figure size 432x288 with 1 Axes>"
      ]
     },
     "metadata": {},
     "output_type": "display_data"
    }
   ],
   "source": [
    "test_alpha(.2)"
   ]
  },
  {
   "cell_type": "markdown",
   "metadata": {},
   "source": [
    "![](media/alpha2.png)"
   ]
  },
  {
   "cell_type": "markdown",
   "metadata": {},
   "source": [
    "### Alpha = .3"
   ]
  },
  {
   "cell_type": "code",
   "execution_count": 10,
   "metadata": {},
   "outputs": [
    {
     "data": {
      "image/png": "[encoded data removed]",
      "text/plain": [
       "<Figure size 432x288 with 1 Axes>"
      ]
     },
     "metadata": {},
     "output_type": "display_data"
    }
   ],
   "source": [
    "test_alpha(.3)"
   ]
  },
  {
   "cell_type": "markdown",
   "metadata": {},
   "source": [
    "![](media/alpha3.png)"
   ]
  },
  {
   "cell_type": "markdown",
   "metadata": {},
   "source": [
    "### Alpha = .4"
   ]
  },
  {
   "cell_type": "code",
   "execution_count": 11,
   "metadata": {},
   "outputs": [
    {
     "data": {
      "image/png": "[encoded data removed]",
      "text/plain": [
       "<Figure size 432x288 with 1 Axes>"
      ]
     },
     "metadata": {},
     "output_type": "display_data"
    }
   ],
   "source": [
    "test_alpha(.4)"
   ]
  },
  {
   "cell_type": "markdown",
   "metadata": {},
   "source": [
    "![](media/alpha4.png)"
   ]
  },
  {
   "cell_type": "code",
   "execution_count": 15,
   "metadata": {},
   "outputs": [
    {
     "data": {
      "image/svg+xml": [
       "<svg xmlns=\"http://www.w3.org/2000/svg\" xmlns:xlink=\"http://www.w3.org/1999/xlink\" width=\"100.0\" height=\"100.0\" viewBox=\"-0.04 -0.04 1.08 1.08\" preserveAspectRatio=\"xMinYMin meet\"><g transform=\"matrix(1,0,0,-1,0,1.0)\"><path fill-rule=\"evenodd\" fill=\"#66cc99\" stroke=\"#555555\" stroke-width=\"0.0216\" opacity=\"0.6\" d=\"M 0.0,0.0 L 0.0,1.0 L 1.0,1.0 L 1.0,0.0 L 0.0,0.0 z\" /></g></svg>"
      ],
      "text/plain": [
       "<shapely.geometry.polygon.Polygon at 0x7f8cf0e63438>"
      ]
     },
     "execution_count": 15,
     "metadata": {},
     "output_type": "execute_result"
    }
   ],
   "source": [
    "import shapely\n",
    "a = shapely.geometry.Polygon([(0., 0.), (0., 1.), (1., 1.), (1., 0.)])\n",
    "a"
   ]
  },
  {
   "cell_type": "code",
   "execution_count": 18,
   "metadata": {},
   "outputs": [
    {
     "data": {
      "image/svg+xml": [
       "<svg xmlns=\"http://www.w3.org/2000/svg\" xmlns:xlink=\"http://www.w3.org/1999/xlink\" width=\"100.0\" height=\"100.0\" viewBox=\"-0.04 -0.04 1.08 1.08\" preserveAspectRatio=\"xMinYMin meet\"><g transform=\"matrix(1,0,0,-1,0,1.0)\"><path fill-rule=\"evenodd\" fill=\"#66cc99\" stroke=\"#555555\" stroke-width=\"0.0216\" opacity=\"0.6\" d=\"M 1.0,0.0 L 0.0,0.0 L 0.0,1.0 L 1.0,1.0 L 1.0,0.0 z\" /></g></svg>"
      ],
      "text/plain": [
       "<shapely.geometry.polygon.Polygon at 0x7f8cf0d49fd0>"
      ]
     },
     "execution_count": 18,
     "metadata": {},
     "output_type": "execute_result"
    }
   ],
   "source": [
    "b = get_alpha([(0., 0.), (0., 1.), (1., 1.), (1., 0.)], 1.e-9)\n",
    "b"
   ]
  },
  {
   "cell_type": "code",
   "execution_count": 21,
   "metadata": {},
   "outputs": [],
   "source": [
    "b.equals(a)"
   ]
  },
  {
   "cell_type": "code",
   "execution_count": 22,
   "metadata": {},
   "outputs": [
    {
     "data": {
      "text/plain": [
       "False"
      ]
     },
     "execution_count": 22,
     "metadata": {},
     "output_type": "execute_result"
    }
   ],
   "source": [
    "b == a"
   ]
  }
 ],
 "metadata": {
  "kernelspec": {
   "display_name": "Python 3",
   "language": "python",
   "name": "python3"
  },
  "language_info": {
   "codemirror_mode": {
    "name": "ipython",
    "version": 3
   },
   "file_extension": ".py",
   "mimetype": "text/x-python",
   "name": "python",
   "nbconvert_exporter": "python",
   "pygments_lexer": "ipython3",
   "version": "3.6.6"
  }
 },
 "nbformat": 4,
 "nbformat_minor": 2
}
